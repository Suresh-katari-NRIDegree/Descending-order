{
  "nbformat": 4,
  "nbformat_minor": 0,
  "metadata": {
    "colab": {
      "provenance": [],
      "authorship_tag": "ABX9TyMpdeZF8Ha8qbBl8M5GcT/H",
      "include_colab_link": true
    },
    "kernelspec": {
      "name": "python3",
      "display_name": "Python 3"
    },
    "language_info": {
      "name": "python"
    }
  },
  "cells": [
    {
      "cell_type": "markdown",
      "metadata": {
        "id": "view-in-github",
        "colab_type": "text"
      },
      "source": [
        "<a href=\"https://colab.research.google.com/github/Suresh-katari-NRIDegree/Descending-order/blob/main/ai_work.ipynb\" target=\"_parent\"><img src=\"https://colab.research.google.com/assets/colab-badge.svg\" alt=\"Open In Colab\"/></a>"
      ]
    },
    {
      "cell_type": "code",
      "source": [
        "import random"
      ],
      "metadata": {
        "id": "Ouaeh58DEZ0k"
      },
      "execution_count": null,
      "outputs": []
    },
    {
      "cell_type": "code",
      "source": [
        "import sys"
      ],
      "metadata": {
        "id": "z4waEcE9Edue"
      },
      "execution_count": null,
      "outputs": []
    },
    {
      "cell_type": "code",
      "source": [
        "question = \"\"\"\n",
        "Problem: Retail Transactions Data Analysis with Pandas\n",
        "\n",
        "You are provided with a CSV file named retail_transactions.csv that contains data from a retail chain. The file includes the following columns:\n",
        "\t•\tTransactionID: A unique identifier for each transaction.\n",
        "\t•\tTransactionDate: The date when the transaction occurred, in the format 'YYYY-MM-DD'.\n",
        "\t•\tStoreID: Identifier for the store where the transaction took place.\n",
        "\t•\tCustomerID: Unique identifier for the customer.\n",
        "\t•\tProductID: Identifier for the product sold.\n",
        "\t•\tProductCategory: The category of the product (e.g., Electronics, Apparel, Grocery, etc.).\n",
        "\t•\tQuantity: Number of units sold.\n",
        "\t•\tPrice: Unit price of the product.\n",
        "\t•\tPaymentType: Payment method used (e.g., Cash, Credit, Debit).\n",
        "\t•\tDiscount: Discount applied (as a percentage, e.g., 10 for 10% discount). This column may have missing values if no discount was given.\n",
        "\n",
        "Your task is to perform the following analysis using Pandas only (do not use NumPy functions):\n",
        "\t1.\tData Loading & Parsing:\n",
        "\t•\tImport the necessary libraries.\n",
        "\t•\tRead the CSV file into a Pandas DataFrame.\n",
        "\t•\tEnsure that the TransactionDate column is parsed as a datetime object.\n",
        "\t2.\tInitial Data Exploration:\n",
        "\t•\tDisplay the first 15 rows of the DataFrame.\n",
        "\t•\tPrint a summary (using methods like .info() and .describe()) to understand the structure and data types.\n",
        "\t3.\tData Cleaning:\n",
        "\t•\tCheck for missing values in each column and print the count per column.\n",
        "\t•\tFor the columns Quantity, Price, and Discount, ensure they are in the correct numerical format.\n",
        "\t•\tIf Discount has missing values, assume a discount of 0% and fill those missing entries accordingly.\n",
        "\t4.\tFeature Engineering:\n",
        "\t•\tCreate a new column called NetPrice which applies the discount to the price. Use the formula:\n",
        "\n",
        "\\text{NetPrice} = \\text{Price} \\times \\left(1 - \\frac{\\text{Discount}}{100}\\right)\n",
        "\n",
        "\t•\tCreate another new column called TotalSale computed as:\n",
        "\n",
        "\\text{TotalSale} = \\text{Quantity} \\times \\text{NetPrice}\n",
        "\n",
        "\t5.\tData Filtering:\n",
        "\t•\tFilter the DataFrame to include only those transactions where TotalSale is greater than or equal to 20.\n",
        "\t•\tSave this filtered data into a new DataFrame for further analysis.\n",
        "\t6.\tData Type Conversion:\n",
        "\t•\tConvert the PaymentType column to a categorical data type.\n",
        "\t7.\tGrouping and Aggregation:\n",
        "\t•\ta. Group the filtered DataFrame by ProductCategory and compute:\n",
        "\t•\tThe total Quantity sold for each category.\n",
        "\t•\tThe total TotalSale for each category.\n",
        "\t•\tb. Sort the grouped result in descending order based on the total TotalSale.\n",
        "\t•\tc. Identify and print the top 3 product categories with the highest total sales.\n",
        "\t8.\tMulti-Level Grouping:\n",
        "\t•\tGroup the filtered data by both StoreID and ProductCategory.\n",
        "\t•\tFor each group, calculate the average TotalSale per transaction.\n",
        "\t9.\tStore-Level Insights:\n",
        "\t•\tFor each store (StoreID), determine which product category has the highest average TotalSale.\n",
        "\t•\tPrepare and print a summary DataFrame that includes:\n",
        "\t•\tStoreID\n",
        "\t•\tThe corresponding top ProductCategory\n",
        "\t•\tThe calculated average TotalSale for that category\n",
        "\t10.\tDocumentation:\n",
        "\t•\tEnsure your code is well-commented, explaining each major step in the analysis.\n",
        "\n",
        "Instructions:\n",
        "Write the complete Python code using Pandas to perform the tasks described above. Your solution should be self-contained and avoid using any NumPy functions. Make sure that your code handles potential issues such as missing values and incorrect data types, and that it clearly demonstrates your ability to perform grouping and aggregation operations in Pandas.\n",
        "\"\"\""
      ],
      "metadata": {
        "id": "sPV3eISZFWbX"
      },
      "execution_count": null,
      "outputs": []
    },
    {
      "cell_type": "code",
      "source": [
        "type(question)"
      ],
      "metadata": {
        "colab": {
          "base_uri": "https://localhost:8080/"
        },
        "id": "7fVYpOptE207",
        "outputId": "fe14be9c-c3ec-4cf2-f39d-0218526f71fc"
      },
      "execution_count": null,
      "outputs": [
        {
          "output_type": "execute_result",
          "data": {
            "text/plain": [
              "str"
            ]
          },
          "metadata": {},
          "execution_count": 34
        }
      ]
    },
    {
      "cell_type": "code",
      "source": [
        "for _ in question:\n",
        "  print(_,end=\"\")\n"
      ],
      "metadata": {
        "colab": {
          "base_uri": "https://localhost:8080/"
        },
        "id": "EmAejo0uGWSn",
        "outputId": "43e3b1f1-0644-467e-bacc-16c6de3506d5"
      },
      "execution_count": null,
      "outputs": [
        {
          "output_type": "stream",
          "name": "stdout",
          "text": [
            "\n",
            "Problem: Retail Transactions Data Analysis with Pandas\n",
            "\n",
            "You are provided with a CSV file named retail_transactions.csv that contains data from a retail chain. The file includes the following columns:\n",
            "\t•\tTransactionID: A unique identifier for each transaction.\n",
            "\t•\tTransactionDate: The date when the transaction occurred, in the format 'YYYY-MM-DD'.\n",
            "\t•\tStoreID: Identifier for the store where the transaction took place.\n",
            "\t•\tCustomerID: Unique identifier for the customer.\n",
            "\t•\tProductID: Identifier for the product sold.\n",
            "\t•\tProductCategory: The category of the product (e.g., Electronics, Apparel, Grocery, etc.).\n",
            "\t•\tQuantity: Number of units sold.\n",
            "\t•\tPrice: Unit price of the product.\n",
            "\t•\tPaymentType: Payment method used (e.g., Cash, Credit, Debit).\n",
            "\t•\tDiscount: Discount applied (as a percentage, e.g., 10 for 10% discount). This column may have missing values if no discount was given.\n",
            "\n",
            "Your task is to perform the following analysis using Pandas only (do not use NumPy functions):\n",
            "\t1.\tData Loading & Parsing:\n",
            "\t•\tImport the necessary libraries.\n",
            "\t•\tRead the CSV file into a Pandas DataFrame.\n",
            "\t•\tEnsure that the TransactionDate column is parsed as a datetime object.\n",
            "\t2.\tInitial Data Exploration:\n",
            "\t•\tDisplay the first 15 rows of the DataFrame.\n",
            "\t•\tPrint a summary (using methods like .info() and .describe()) to understand the structure and data types.\n",
            "\t3.\tData Cleaning:\n",
            "\t•\tCheck for missing values in each column and print the count per column.\n",
            "\t•\tFor the columns Quantity, Price, and Discount, ensure they are in the correct numerical format.\n",
            "\t•\tIf Discount has missing values, assume a discount of 0% and fill those missing entries accordingly.\n",
            "\t4.\tFeature Engineering:\n",
            "\t•\tCreate a new column called NetPrice which applies the discount to the price. Use the formula:\n",
            "\n",
            "\text{NetPrice} = \text{Price} \times \\left(1 - \frac{\text{Discount}}{100}\right)\n",
            "\n",
            "\t•\tCreate another new column called TotalSale computed as:\n",
            "\n",
            "\text{TotalSale} = \text{Quantity} \times \text{NetPrice}\n",
            "\n",
            "\t5.\tData Filtering:\n",
            "\t•\tFilter the DataFrame to include only those transactions where TotalSale is greater than or equal to 20.\n",
            "\t•\tSave this filtered data into a new DataFrame for further analysis.\n",
            "\t6.\tData Type Conversion:\n",
            "\t•\tConvert the PaymentType column to a categorical data type.\n",
            "\t7.\tGrouping and Aggregation:\n",
            "\t•\ta. Group the filtered DataFrame by ProductCategory and compute:\n",
            "\t•\tThe total Quantity sold for each category.\n",
            "\t•\tThe total TotalSale for each category.\n",
            "\t•\tb. Sort the grouped result in descending order based on the total TotalSale.\n",
            "\t•\tc. Identify and print the top 3 product categories with the highest total sales.\n",
            "\t8.\tMulti-Level Grouping:\n",
            "\t•\tGroup the filtered data by both StoreID and ProductCategory.\n",
            "\t•\tFor each group, calculate the average TotalSale per transaction.\n",
            "\t9.\tStore-Level Insights:\n",
            "\t•\tFor each store (StoreID), determine which product category has the highest average TotalSale.\n",
            "\t•\tPrepare and print a summary DataFrame that includes:\n",
            "\t•\tStoreID\n",
            "\t•\tThe corresponding top ProductCategory\n",
            "\t•\tThe calculated average TotalSale for that category\n",
            "\t10.\tDocumentation:\n",
            "\t•\tEnsure your code is well-commented, explaining each major step in the analysis.\n",
            "\n",
            "Instructions:\n",
            "Write the complete Python code using Pandas to perform the tasks described above. Your solution should be self-contained and avoid using any NumPy functions. Make sure that your code handles potential issues such as missing values and incorrect data types, and that it clearly demonstrates your ability to perform grouping and aggregation operations in Pandas.\n"
          ]
        }
      ]
    },
    {
      "cell_type": "code",
      "source": [
        "import time\n",
        "import sys"
      ],
      "metadata": {
        "id": "dK2RKtMiGrUI"
      },
      "execution_count": null,
      "outputs": []
    },
    {
      "cell_type": "code",
      "source": [
        "for _ in question:\n",
        "  sys.stdout.write(_)\n",
        "  sys.stdout.flush()\n",
        "  time.sleep(0.05)"
      ],
      "metadata": {
        "colab": {
          "base_uri": "https://localhost:8080/"
        },
        "id": "5EbFEhy9Gxlx",
        "outputId": "1b9a3066-8bfe-4e04-eb33-2f9f40428414"
      },
      "execution_count": null,
      "outputs": [
        {
          "output_type": "stream",
          "name": "stdout",
          "text": [
            "\n",
            "Problem: Retail Transactions Data Analysis with Pandas\n",
            "\n",
            "You are provided with a CSV file named retail_transactions.csv that contains data from a retail chain. The file includes the following columns:\n",
            "\t•\tTransactionID: A unique identifier for each transaction.\n",
            "\t•\tTransactionDate: The date when the transaction occurred, in the format 'YYYY-MM-DD'.\n",
            "\t•\tStoreID: Identifier for the store where the transaction took place.\n",
            "\t•\tCustomerID: Unique identifier for the customer.\n",
            "\t•\tProductID: Identifier for the product sold.\n",
            "\t•\tProductCategory: The category of the product (e.g., Electronics, Apparel, Grocery, etc.).\n",
            "\t•\tQuantity: Number of units sold.\n",
            "\t•\tPrice: Unit price of the product.\n",
            "\t•\tPaymentType: Payment method used (e.g., Cash, Credit, Debit).\n",
            "\t•\tDiscount: Discount applied (as a percentage, e.g., 10 for 10% discount). This column may have missing values if no discount was given.\n",
            "\n",
            "Your task is to perform the following analysis using Pandas only (do not use NumPy functions):\n",
            "\t1.\tData Loading & Parsing:\n",
            "\t•\tImport the necessary libraries.\n",
            "\t•\tRead the CSV file into a Pandas DataFrame.\n",
            "\t•\tEnsure that the TransactionDate column is parsed as a datetime object.\n",
            "\t2.\tInitial Data Exploration:\n",
            "\t•\tDisplay the first 15 rows of the DataFrame.\n",
            "\t•\tPrint a summary (using methods like .info() and .describe()) to understand the structure and data types.\n",
            "\t3.\tData Cleaning:\n",
            "\t•\tCheck for missing values in each column and print the count per column.\n",
            "\t•\tFor the columns Quantity, Price, and Discount, ensure they are in the correct numerical format.\n",
            "\t•\tIf Discount has missing values, assume a discount of 0% and fill those missing entries accordingly.\n",
            "\t4.\tFeature Engineering:\n",
            "\t•\tCreate a new column called NetPrice which applies the discount to the price. Use the formula:\n",
            "\n",
            "ight)\n",
            "\n",
            "\t•\tCreate another new column called TotalSale computed as:\n",
            "\n",
            "\text{TotalSale} = \text{Quantity} \times \text{NetPrice}\n",
            "\n",
            "\t5.\tData Filtering:\n",
            "\t•\tFilter the DataFrame to include only those transactions where TotalSale is greater than or equal to 20.\n",
            "\t•\tSave this filtered data into a new DataFrame for further analysis.\n",
            "\t6.\tData Type Conversion:\n",
            "\t•\tConvert the PaymentType column to a categorical data type.\n",
            "\t7.\tGrouping and Aggregation:\n",
            "\t•\ta. Group the filtered DataFrame by ProductCategory and compute:\n",
            "\t•\tThe total Quantity sold for each category.\n",
            "\t•\tThe total TotalSale for each category.\n",
            "\t•\tb. Sort the grouped result in descending order based on the total TotalSale.\n",
            "\t•\tc. Identify and print the top 3 product categories with the highest total sales.\n",
            "\t8.\tMulti-Level Grouping:\n",
            "\t•\tGroup the filtered data by both StoreID and ProductCategory.\n",
            "\t•\tFor each group, calculate the average TotalSale per transaction.\n",
            "\t9.\tStore-Level Insights:\n",
            "\t•\tFor each store (StoreID), determine which product category has the highest average TotalSale.\n",
            "\t•\tPrepare and print a summary DataFrame that includes:\n",
            "\t•\tStoreID\n",
            "\t•\tThe corresponding top ProductCategory\n",
            "\t•\tThe calculated average TotalSale for that category\n",
            "\t10.\tDocumentation:\n",
            "\t•\tEnsure your code is well-commented, explaining each major step in the analysis.\n",
            "\n",
            "Instructions:\n",
            "Write the complete Python code using Pandas to perform the tasks described above. Your solution should be self-contained and avoid using any NumPy functions. Make sure that your code handles potential issues such as missing values and incorrect data types, and that it clearly demonstrates your ability to perform grouping and aggregation operations in Pandas.\n"
          ]
        }
      ]
    },
    {
      "cell_type": "code",
      "source": [
        "x=10\n",
        "y=20\n",
        "sum = x+y\n",
        "result = f\"the sum is{sum}\"\n",
        "\n",
        "for _ in result:\n",
        "  sys.stdout.write(_)\n",
        "  sys.stdout.flush()\n",
        "  time.sleep(0.05)"
      ],
      "metadata": {
        "colab": {
          "base_uri": "https://localhost:8080/"
        },
        "id": "iATYjSAFHS-R",
        "outputId": "144af4bb-5980-41ff-f337-f8bd891e4f17"
      },
      "execution_count": null,
      "outputs": [
        {
          "output_type": "stream",
          "name": "stdout",
          "text": [
            "the sum is30"
          ]
        }
      ]
    },
    {
      "cell_type": "code",
      "source": [
        "def getAIOPLOOK(Result):\n",
        "  for _ in Result:\n",
        "    sys.stdout.write(_)\n",
        "    sys.stdout.flush()\n",
        "    time.sleep(0.05)"
      ],
      "metadata": {
        "id": "ecUmmW0UIrfp"
      },
      "execution_count": null,
      "outputs": []
    }
  ]
}